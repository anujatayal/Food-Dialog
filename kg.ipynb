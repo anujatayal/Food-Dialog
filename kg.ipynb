{
 "cells": [
  {
   "cell_type": "code",
   "execution_count": 1,
   "metadata": {},
   "outputs": [],
   "source": [
    "import pandas as pd\n",
    "import numpy as np\n",
    "import pydantic as py\n",
    "import json\n",
    "import re\n",
    "import random\n",
    "from nltk.stem.porter import *\n",
    "import numpy as np\n",
    "stemmer=PorterStemmer()"
   ]
  },
  {
   "cell_type": "code",
   "execution_count": 2,
   "metadata": {},
   "outputs": [],
   "source": [
    "# f = open('full-ontology.json')\n",
    "f = open('new_ontology.json')\n",
    "\n",
    "data = json.load(f)"
   ]
  },
  {
   "cell_type": "code",
   "execution_count": 16,
   "metadata": {},
   "outputs": [],
   "source": [
    "df=pd.read_csv('salt_full.csv')\n"
   ]
  },
  {
   "cell_type": "code",
   "execution_count": 17,
   "metadata": {},
   "outputs": [],
   "source": [
    "df['foodDescription'] = df['foodDescription'].replace(r'\\(\\)', '', regex=True) \n",
    "df['foodDescription'] = df['foodDescription'].replace(r'[^a-zA-Z, ]', ' ', regex=True) \n",
    "df['foodDescription'] = df['foodDescription'].replace(r'andor', ',', regex=True) \n",
    "df['foodDescription'] = df['foodDescription'].replace(r'--', ',', regex=True) \n",
    "df = df[~df['foodDescription'].str.contains('as ingredient',case=False)]\n",
    "df['foodDescription'] = df['foodDescription'].str.replace(r', nfs', '', regex=True,case=False) "
   ]
  },
  {
   "cell_type": "code",
   "execution_count": 19,
   "metadata": {},
   "outputs": [
    {
     "data": {
      "text/html": [
       "<div>\n",
       "<style scoped>\n",
       "    .dataframe tbody tr th:only-of-type {\n",
       "        vertical-align: middle;\n",
       "    }\n",
       "\n",
       "    .dataframe tbody tr th {\n",
       "        vertical-align: top;\n",
       "    }\n",
       "\n",
       "    .dataframe thead th {\n",
       "        text-align: right;\n",
       "    }\n",
       "</style>\n",
       "<table border=\"1\" class=\"dataframe\">\n",
       "  <thead>\n",
       "    <tr style=\"text-align: right;\">\n",
       "      <th></th>\n",
       "      <th>fdcId</th>\n",
       "      <th>identifier</th>\n",
       "      <th>identifierType</th>\n",
       "      <th>foodType</th>\n",
       "      <th>foodDescription</th>\n",
       "      <th>value</th>\n",
       "      <th>foodWeight</th>\n",
       "      <th>valueUnit</th>\n",
       "      <th>foodMeasure</th>\n",
       "      <th>measureValue</th>\n",
       "    </tr>\n",
       "  </thead>\n",
       "  <tbody>\n",
       "    <tr>\n",
       "      <th>45775</th>\n",
       "      <td>167884</td>\n",
       "      <td>45776</td>\n",
       "      <td>NDB #</td>\n",
       "      <td>SR Legacy</td>\n",
       "      <td>Pork, fresh, loin, blade  chops , bone in, sep...</td>\n",
       "      <td>85.0</td>\n",
       "      <td>215.0</td>\n",
       "      <td>g</td>\n",
       "      <td>1 chop</td>\n",
       "      <td>183.0</td>\n",
       "    </tr>\n",
       "    <tr>\n",
       "      <th>45776</th>\n",
       "      <td>167884</td>\n",
       "      <td>45777</td>\n",
       "      <td>NDB #</td>\n",
       "      <td>SR Legacy</td>\n",
       "      <td>Pork, fresh, loin, blade  chops , bone in, sep...</td>\n",
       "      <td>85.0</td>\n",
       "      <td>85.0</td>\n",
       "      <td>g</td>\n",
       "      <td>3 oz</td>\n",
       "      <td>72.2</td>\n",
       "    </tr>\n",
       "  </tbody>\n",
       "</table>\n",
       "</div>"
      ],
      "text/plain": [
       "        fdcId  identifier identifierType   foodType  \\\n",
       "45775  167884       45776          NDB #  SR Legacy   \n",
       "45776  167884       45777          NDB #  SR Legacy   \n",
       "\n",
       "                                         foodDescription  value  foodWeight  \\\n",
       "45775  Pork, fresh, loin, blade  chops , bone in, sep...   85.0       215.0   \n",
       "45776  Pork, fresh, loin, blade  chops , bone in, sep...   85.0        85.0   \n",
       "\n",
       "      valueUnit foodMeasure  measureValue  \n",
       "45775         g      1 chop         183.0  \n",
       "45776         g        3 oz          72.2  "
      ]
     },
     "execution_count": 19,
     "metadata": {},
     "output_type": "execute_result"
    }
   ],
   "source": [
    "df[df['fdcId']==167884]"
   ]
  },
  {
   "cell_type": "code",
   "execution_count": 6,
   "metadata": {},
   "outputs": [
    {
     "data": {
      "text/html": [
       "<div>\n",
       "<style scoped>\n",
       "    .dataframe tbody tr th:only-of-type {\n",
       "        vertical-align: middle;\n",
       "    }\n",
       "\n",
       "    .dataframe tbody tr th {\n",
       "        vertical-align: top;\n",
       "    }\n",
       "\n",
       "    .dataframe thead th {\n",
       "        text-align: right;\n",
       "    }\n",
       "</style>\n",
       "<table border=\"1\" class=\"dataframe\">\n",
       "  <thead>\n",
       "    <tr style=\"text-align: right;\">\n",
       "      <th></th>\n",
       "      <th>fdcId</th>\n",
       "      <th>identifier</th>\n",
       "      <th>identifierType</th>\n",
       "      <th>foodType</th>\n",
       "      <th>foodDescription</th>\n",
       "      <th>value</th>\n",
       "      <th>foodWeight</th>\n",
       "      <th>valueUnit</th>\n",
       "      <th>foodMeasure</th>\n",
       "      <th>measureValue</th>\n",
       "    </tr>\n",
       "  </thead>\n",
       "  <tbody>\n",
       "    <tr>\n",
       "      <th>0</th>\n",
       "      <td>2341725</td>\n",
       "      <td>1</td>\n",
       "      <td>NDB #</td>\n",
       "      <td>Foundation</td>\n",
       "      <td>Lettuce, romaine, green, raw</td>\n",
       "      <td>0.0</td>\n",
       "      <td>100.0</td>\n",
       "      <td>g</td>\n",
       "      <td>100 g</td>\n",
       "      <td>0.0</td>\n",
       "    </tr>\n",
       "    <tr>\n",
       "      <th>1</th>\n",
       "      <td>2341727</td>\n",
       "      <td>2</td>\n",
       "      <td>NDB #</td>\n",
       "      <td>Foundation</td>\n",
       "      <td>Lettuce, leaf, green, raw</td>\n",
       "      <td>0.0</td>\n",
       "      <td>100.0</td>\n",
       "      <td>g</td>\n",
       "      <td>100 g</td>\n",
       "      <td>0.0</td>\n",
       "    </tr>\n",
       "    <tr>\n",
       "      <th>2</th>\n",
       "      <td>2341726</td>\n",
       "      <td>3</td>\n",
       "      <td>NDB #</td>\n",
       "      <td>Foundation</td>\n",
       "      <td>Lettuce, leaf, red, raw</td>\n",
       "      <td>0.0</td>\n",
       "      <td>100.0</td>\n",
       "      <td>g</td>\n",
       "      <td>100 g</td>\n",
       "      <td>0.0</td>\n",
       "    </tr>\n",
       "    <tr>\n",
       "      <th>3</th>\n",
       "      <td>2341724</td>\n",
       "      <td>4</td>\n",
       "      <td>NDB #</td>\n",
       "      <td>Foundation</td>\n",
       "      <td>Lettuce, iceberg, raw</td>\n",
       "      <td>0.0</td>\n",
       "      <td>100.0</td>\n",
       "      <td>g</td>\n",
       "      <td>100 g</td>\n",
       "      <td>0.0</td>\n",
       "    </tr>\n",
       "    <tr>\n",
       "      <th>4</th>\n",
       "      <td>2340760</td>\n",
       "      <td>5</td>\n",
       "      <td>NDB #</td>\n",
       "      <td>Foundation</td>\n",
       "      <td>Nuts, pine nuts, raw</td>\n",
       "      <td>0.0</td>\n",
       "      <td>100.0</td>\n",
       "      <td>g</td>\n",
       "      <td>100 g</td>\n",
       "      <td>0.0</td>\n",
       "    </tr>\n",
       "  </tbody>\n",
       "</table>\n",
       "</div>"
      ],
      "text/plain": [
       "     fdcId  identifier identifierType    foodType  \\\n",
       "0  2341725           1          NDB #  Foundation   \n",
       "1  2341727           2          NDB #  Foundation   \n",
       "2  2341726           3          NDB #  Foundation   \n",
       "3  2341724           4          NDB #  Foundation   \n",
       "4  2340760           5          NDB #  Foundation   \n",
       "\n",
       "                foodDescription  value  foodWeight valueUnit foodMeasure  \\\n",
       "0  Lettuce, romaine, green, raw    0.0       100.0         g       100 g   \n",
       "1     Lettuce, leaf, green, raw    0.0       100.0         g       100 g   \n",
       "2       Lettuce, leaf, red, raw    0.0       100.0         g       100 g   \n",
       "3         Lettuce, iceberg, raw    0.0       100.0         g       100 g   \n",
       "4          Nuts, pine nuts, raw    0.0       100.0         g       100 g   \n",
       "\n",
       "   measureValue  \n",
       "0           0.0  \n",
       "1           0.0  \n",
       "2           0.0  \n",
       "3           0.0  \n",
       "4           0.0  "
      ]
     },
     "execution_count": 6,
     "metadata": {},
     "output_type": "execute_result"
    }
   ],
   "source": [
    "df.head()"
   ]
  },
  {
   "cell_type": "code",
   "execution_count": 20,
   "metadata": {},
   "outputs": [],
   "source": [
    "mask = df['foodDescription'].str.contains('with added',case=False)\n"
   ]
  },
  {
   "cell_type": "code",
   "execution_count": null,
   "metadata": {},
   "outputs": [],
   "source": [
    "pd.set_option('display.max_colwidth', None)\n"
   ]
  },
  {
   "cell_type": "code",
   "execution_count": null,
   "metadata": {},
   "outputs": [],
   "source": [
    "df['foodDescription'][mask]"
   ]
  },
  {
   "cell_type": "code",
   "execution_count": 21,
   "metadata": {},
   "outputs": [],
   "source": [
    "corpus=[]\n",
    "for description in df['foodDescription']:\n",
    "  ingredients=description.split(',')\n",
    "  corpus.append(['_'.join(i.lower().split())  for i in ingredients])\n",
    "df['corpus']=corpus"
   ]
  },
  {
   "cell_type": "code",
   "execution_count": 22,
   "metadata": {},
   "outputs": [],
   "source": [
    "type=[]\n",
    "food=[]\n",
    "for foodDescription in corpus:\n",
    "    food.append(foodDescription[0])\n",
    "    for key in list(data.keys()):\n",
    "        for ingredient in foodDescription[1:]:\n",
    "            if ingredient not in data[key]:\n",
    "                type.append(ingredient)\n"
   ]
  },
  {
   "cell_type": "code",
   "execution_count": null,
   "metadata": {},
   "outputs": [],
   "source": [
    "data['food']=food\n",
    "data['type']=type\n"
   ]
  },
  {
   "cell_type": "code",
   "execution_count": 102,
   "metadata": {},
   "outputs": [],
   "source": [
    "data.update((x, [i.lower() for i in y]) for x, y in data.items()) #lowering the values\n",
    "data.update((x, [stemmer.stem(i) for i in y]) for x, y in data.items()) #lowering the values\n",
    "data.update((x, list(set(data[x]))) for x, y in data.items()) # get unique values\n"
   ]
  },
  {
   "cell_type": "code",
   "execution_count": null,
   "metadata": {},
   "outputs": [],
   "source": [
    "with open(\"new_ontology.json\", \"w\") as outfile:\n",
    "    json.dump(data,outfile)"
   ]
  },
  {
   "cell_type": "code",
   "execution_count": 103,
   "metadata": {},
   "outputs": [
    {
     "name": "stdout",
     "output_type": "stream",
     "text": [
      "length of keys animal 9\n",
      "length of keys cook 2392\n",
      "length of keys cuisine 28\n",
      "length of keys part 77\n",
      "length of keys texture 7\n",
      "length of keys color 5\n",
      "length of keys flavor 7\n",
      "length of keys ingredient 338\n",
      "length of keys nutrient 10\n",
      "length of keys food 2760\n",
      "length of keys type 4772\n"
     ]
    }
   ],
   "source": [
    "keys=list(data.keys())\n",
    "for key in keys:\n",
    "    print(\"length of keys\",key,len(data[key]))   "
   ]
  },
  {
   "cell_type": "code",
   "execution_count": 23,
   "metadata": {},
   "outputs": [],
   "source": [
    "dflist=[]\n",
    "df=df.reset_index(drop=True)\n",
    "for i in range(len(df)):\n",
    "  df1={}\n",
    "  df2={}\n",
    "  df3={}\n",
    "  df1['value']=str(np.format_float_positional(df.loc[i]['value'], 3, trim='-'))\n",
    "  df1['foodDescription']=df.loc[i]['foodDescription']\n",
    "  df1['saltmetric']=\"mg\"\n",
    "  df1['foodWeight']=\"100\"\n",
    "  df1['metric']=\"g\"\n",
    "  df1['defaultValue']=str(np.format_float_positional(df.loc[i]['value'], 3, trim='-'))\n",
    "  dflist.append(df1)\n",
    "  df2['value']=str(np.format_float_positional(df.loc[i]['measureValue'], 3, trim='-'))\n",
    "  df2['foodDescription']=df.loc[i]['foodDescription']\n",
    "  # df2['foodMeasure']=df.loc[i]['foodMeasure']\n",
    "  df2['saltmetric']=\"mg\"\n",
    "  df2['foodWeight']=str(np.format_float_positional(df.loc[i]['foodWeight'], 3, trim='-'))\n",
    "  df2['metric']=str(df.loc[i]['valueUnit'])\n",
    "  df2['defaultValue']=str(np.format_float_positional(df.loc[i]['value'], 3, trim='-'))\n",
    "\n",
    "  dflist.append(df2)\n",
    "  isdigit=any(word.isdigit() for word in df.loc[i]['foodMeasure'])\n",
    "  if isdigit:\n",
    "    values=re.split(r\"[\\s\\(\\)]\",df.loc[i]['foodMeasure'])\n",
    "    df3['value']=str(np.format_float_positional(df.loc[i]['measureValue'], 3, trim='-'))\n",
    "    df3['foodDescription']=df.loc[i]['foodDescription']\n",
    "    # df2['foodMeasure']=df.loc[i]['foodMeasure']\n",
    "    weight=df.loc[i]['foodMeasure']\n",
    "    df3['saltmetric']=\"mg\"\n",
    "    df3['foodWeight']=str(values[0])\n",
    "    df3['metric']=str(values[1])\n",
    "    df3['defaultValue']=str(np.format_float_positional(df.loc[i]['value'], 3, trim='-'))\n",
    "    dflist.append(df3)"
   ]
  },
  {
   "cell_type": "code",
   "execution_count": 24,
   "metadata": {},
   "outputs": [],
   "source": [
    "saltDf=pd.DataFrame(dflist)\n",
    "saltDf=saltDf.drop_duplicates()\n",
    "saltDf=saltDf.reset_index(drop=True)"
   ]
  },
  {
   "cell_type": "code",
   "execution_count": 131,
   "metadata": {},
   "outputs": [
    {
     "data": {
      "text/html": [
       "<div>\n",
       "<style scoped>\n",
       "    .dataframe tbody tr th:only-of-type {\n",
       "        vertical-align: middle;\n",
       "    }\n",
       "\n",
       "    .dataframe tbody tr th {\n",
       "        vertical-align: top;\n",
       "    }\n",
       "\n",
       "    .dataframe thead th {\n",
       "        text-align: right;\n",
       "    }\n",
       "</style>\n",
       "<table border=\"1\" class=\"dataframe\">\n",
       "  <thead>\n",
       "    <tr style=\"text-align: right;\">\n",
       "      <th></th>\n",
       "      <th>value</th>\n",
       "      <th>foodDescription</th>\n",
       "      <th>saltmetric</th>\n",
       "      <th>foodWeight</th>\n",
       "      <th>metric</th>\n",
       "      <th>defaultValue</th>\n",
       "    </tr>\n",
       "  </thead>\n",
       "  <tbody>\n",
       "    <tr>\n",
       "      <th>0</th>\n",
       "      <td>0</td>\n",
       "      <td>Lettuce, romaine, green, raw</td>\n",
       "      <td>mg</td>\n",
       "      <td>100</td>\n",
       "      <td>g</td>\n",
       "      <td>0</td>\n",
       "    </tr>\n",
       "    <tr>\n",
       "      <th>1</th>\n",
       "      <td>0</td>\n",
       "      <td>Lettuce, leaf, green, raw</td>\n",
       "      <td>mg</td>\n",
       "      <td>100</td>\n",
       "      <td>g</td>\n",
       "      <td>0</td>\n",
       "    </tr>\n",
       "    <tr>\n",
       "      <th>2</th>\n",
       "      <td>0</td>\n",
       "      <td>Lettuce, leaf, red, raw</td>\n",
       "      <td>mg</td>\n",
       "      <td>100</td>\n",
       "      <td>g</td>\n",
       "      <td>0</td>\n",
       "    </tr>\n",
       "    <tr>\n",
       "      <th>3</th>\n",
       "      <td>0</td>\n",
       "      <td>Lettuce, iceberg, raw</td>\n",
       "      <td>mg</td>\n",
       "      <td>100</td>\n",
       "      <td>g</td>\n",
       "      <td>0</td>\n",
       "    </tr>\n",
       "    <tr>\n",
       "      <th>4</th>\n",
       "      <td>0</td>\n",
       "      <td>Nuts, pine nuts, raw</td>\n",
       "      <td>mg</td>\n",
       "      <td>100</td>\n",
       "      <td>g</td>\n",
       "      <td>0</td>\n",
       "    </tr>\n",
       "    <tr>\n",
       "      <th>...</th>\n",
       "      <td>...</td>\n",
       "      <td>...</td>\n",
       "      <td>...</td>\n",
       "      <td>...</td>\n",
       "      <td>...</td>\n",
       "      <td>...</td>\n",
       "    </tr>\n",
       "    <tr>\n",
       "      <th>93430</th>\n",
       "      <td>471</td>\n",
       "      <td>Pie Crust, Cookie type, Graham Cracker, Ready Crust</td>\n",
       "      <td>mg</td>\n",
       "      <td>100</td>\n",
       "      <td>g</td>\n",
       "      <td>471</td>\n",
       "    </tr>\n",
       "    <tr>\n",
       "      <th>93431</th>\n",
       "      <td>134</td>\n",
       "      <td>Pie Crust, Cookie type, Graham Cracker, Ready Crust</td>\n",
       "      <td>mg</td>\n",
       "      <td>28.35</td>\n",
       "      <td>g</td>\n",
       "      <td>471</td>\n",
       "    </tr>\n",
       "    <tr>\n",
       "      <th>93432</th>\n",
       "      <td>134</td>\n",
       "      <td>Pie Crust, Cookie type, Graham Cracker, Ready Crust</td>\n",
       "      <td>mg</td>\n",
       "      <td>1</td>\n",
       "      <td>oz</td>\n",
       "      <td>471</td>\n",
       "    </tr>\n",
       "    <tr>\n",
       "      <th>93433</th>\n",
       "      <td>862</td>\n",
       "      <td>Pie Crust, Cookie type, Graham Cracker, Ready Crust</td>\n",
       "      <td>mg</td>\n",
       "      <td>183</td>\n",
       "      <td>g</td>\n",
       "      <td>471</td>\n",
       "    </tr>\n",
       "    <tr>\n",
       "      <th>93434</th>\n",
       "      <td>862</td>\n",
       "      <td>Pie Crust, Cookie type, Graham Cracker, Ready Crust</td>\n",
       "      <td>mg</td>\n",
       "      <td>1</td>\n",
       "      <td>crust</td>\n",
       "      <td>471</td>\n",
       "    </tr>\n",
       "  </tbody>\n",
       "</table>\n",
       "<p>93435 rows × 6 columns</p>\n",
       "</div>"
      ],
      "text/plain": [
       "      value                                      foodDescription saltmetric  \\\n",
       "0         0                         Lettuce, romaine, green, raw         mg   \n",
       "1         0                            Lettuce, leaf, green, raw         mg   \n",
       "2         0                              Lettuce, leaf, red, raw         mg   \n",
       "3         0                                Lettuce, iceberg, raw         mg   \n",
       "4         0                                 Nuts, pine nuts, raw         mg   \n",
       "...     ...                                                  ...        ...   \n",
       "93430   471  Pie Crust, Cookie type, Graham Cracker, Ready Crust         mg   \n",
       "93431   134  Pie Crust, Cookie type, Graham Cracker, Ready Crust         mg   \n",
       "93432   134  Pie Crust, Cookie type, Graham Cracker, Ready Crust         mg   \n",
       "93433   862  Pie Crust, Cookie type, Graham Cracker, Ready Crust         mg   \n",
       "93434   862  Pie Crust, Cookie type, Graham Cracker, Ready Crust         mg   \n",
       "\n",
       "      foodWeight metric defaultValue  \n",
       "0            100      g            0  \n",
       "1            100      g            0  \n",
       "2            100      g            0  \n",
       "3            100      g            0  \n",
       "4            100      g            0  \n",
       "...          ...    ...          ...  \n",
       "93430        100      g          471  \n",
       "93431      28.35      g          471  \n",
       "93432          1     oz          471  \n",
       "93433        183      g          471  \n",
       "93434          1  crust          471  \n",
       "\n",
       "[93435 rows x 6 columns]"
      ]
     },
     "execution_count": 131,
     "metadata": {},
     "output_type": "execute_result"
    }
   ],
   "source": [
    "saltDf"
   ]
  },
  {
   "cell_type": "code",
   "execution_count": 132,
   "metadata": {},
   "outputs": [],
   "source": [
    "corpus=[]\n",
    "for description in saltDf['foodDescription']:\n",
    "  ingredients=description.split(',')\n",
    "  corpus.append(['_'.join(i.lower().split())  for i in ingredients])\n",
    "saltDf['corpus']=corpus"
   ]
  },
  {
   "cell_type": "code",
   "execution_count": 133,
   "metadata": {},
   "outputs": [],
   "source": [
    "triplets=[]\n",
    "flag=0\n",
    "for row in saltDf.itertuples():\n",
    "    triplet=[]\n",
    "    for ingredient in row.corpus:\n",
    "        flag=0\n",
    "        if row.corpus.index(ingredient)==0:\n",
    "            relation='food'\n",
    "            food=ingredient\n",
    "            subject=row.Index\n",
    "        else:            \n",
    "            for key in ['part','cuisine','texture','color','animal','flavor','cook','nutrient','type','ingredient']:\n",
    "                if stemmer.stem(ingredient) in data[key] and flag==0:\n",
    "                    relation=key\n",
    "                    if key not in ['cuisine','cook']:\n",
    "                        subject=food\n",
    "                    else:\n",
    "                        subject=row.Index\n",
    "                    flag=1\n",
    "        object=ingredient\n",
    "        triplet.append([subject,relation,object])\n",
    "    triplets.append(triplet)\n",
    "\n"
   ]
  },
  {
   "cell_type": "code",
   "execution_count": 135,
   "metadata": {},
   "outputs": [],
   "source": [
    "saltDf['triplets']=triplets"
   ]
  },
  {
   "cell_type": "code",
   "execution_count": 119,
   "metadata": {},
   "outputs": [],
   "source": [
    "visDF=pd.DataFrame(saltDf['triplets'],columns=['subject','edge','object'])"
   ]
  },
  {
   "cell_type": "code",
   "execution_count": 136,
   "metadata": {},
   "outputs": [],
   "source": [
    "# for triplet in triplets:\n",
    "#     for i in triplet:\n",
    "#         visDF=visDF.append({'subject':i[0],'edge':i[1],'object':i[2]},ignore_index=True)\n"
   ]
  },
  {
   "cell_type": "code",
   "execution_count": 122,
   "metadata": {},
   "outputs": [],
   "source": [
    "visDF=visDF.drop_duplicates()\n",
    "visDF=visDF.reset_index(drop=True)"
   ]
  },
  {
   "cell_type": "code",
   "execution_count": 123,
   "metadata": {},
   "outputs": [
    {
     "data": {
      "text/plain": [
       "52011"
      ]
     },
     "execution_count": 123,
     "metadata": {},
     "output_type": "execute_result"
    }
   ],
   "source": [
    "len(visDF)"
   ]
  },
  {
   "cell_type": "code",
   "execution_count": 137,
   "metadata": {},
   "outputs": [],
   "source": [
    "for key in keys:\n",
    "    saltDf[key]=saltDf.apply(lambda x: [], axis=1)"
   ]
  },
  {
   "cell_type": "code",
   "execution_count": 138,
   "metadata": {},
   "outputs": [],
   "source": [
    "for index,triplets in enumerate(saltDf['triplets']):\n",
    "    for triplet in triplets:\n",
    "        h,r,o=triplet\n",
    "        saltDf.loc[index,r].append(o)\n",
    "    saltDf.loc[index,'nutrient'].append('salt')"
   ]
  },
  {
   "cell_type": "code",
   "execution_count": 27,
   "metadata": {},
   "outputs": [],
   "source": [
    "saltDf.head()\n",
    "saltDf.to_excel('dataset.xlsx')"
   ]
  },
  {
   "cell_type": "code",
   "execution_count": 26,
   "metadata": {},
   "outputs": [
    {
     "data": {
      "text/html": [
       "<div>\n",
       "<style scoped>\n",
       "    .dataframe tbody tr th:only-of-type {\n",
       "        vertical-align: middle;\n",
       "    }\n",
       "\n",
       "    .dataframe tbody tr th {\n",
       "        vertical-align: top;\n",
       "    }\n",
       "\n",
       "    .dataframe thead th {\n",
       "        text-align: right;\n",
       "    }\n",
       "</style>\n",
       "<table border=\"1\" class=\"dataframe\">\n",
       "  <thead>\n",
       "    <tr style=\"text-align: right;\">\n",
       "      <th></th>\n",
       "      <th>value</th>\n",
       "      <th>foodDescription</th>\n",
       "      <th>saltmetric</th>\n",
       "      <th>foodWeight</th>\n",
       "      <th>metric</th>\n",
       "      <th>defaultValue</th>\n",
       "    </tr>\n",
       "  </thead>\n",
       "  <tbody>\n",
       "    <tr>\n",
       "      <th>0</th>\n",
       "      <td>0</td>\n",
       "      <td>Lettuce, romaine, green, raw</td>\n",
       "      <td>mg</td>\n",
       "      <td>100</td>\n",
       "      <td>g</td>\n",
       "      <td>0</td>\n",
       "    </tr>\n",
       "    <tr>\n",
       "      <th>1</th>\n",
       "      <td>0</td>\n",
       "      <td>Lettuce, leaf, green, raw</td>\n",
       "      <td>mg</td>\n",
       "      <td>100</td>\n",
       "      <td>g</td>\n",
       "      <td>0</td>\n",
       "    </tr>\n",
       "    <tr>\n",
       "      <th>2</th>\n",
       "      <td>0</td>\n",
       "      <td>Lettuce, leaf, red, raw</td>\n",
       "      <td>mg</td>\n",
       "      <td>100</td>\n",
       "      <td>g</td>\n",
       "      <td>0</td>\n",
       "    </tr>\n",
       "    <tr>\n",
       "      <th>3</th>\n",
       "      <td>0</td>\n",
       "      <td>Lettuce, iceberg, raw</td>\n",
       "      <td>mg</td>\n",
       "      <td>100</td>\n",
       "      <td>g</td>\n",
       "      <td>0</td>\n",
       "    </tr>\n",
       "    <tr>\n",
       "      <th>4</th>\n",
       "      <td>0</td>\n",
       "      <td>Nuts, pine nuts, raw</td>\n",
       "      <td>mg</td>\n",
       "      <td>100</td>\n",
       "      <td>g</td>\n",
       "      <td>0</td>\n",
       "    </tr>\n",
       "  </tbody>\n",
       "</table>\n",
       "</div>"
      ],
      "text/plain": [
       "  value               foodDescription saltmetric foodWeight metric  \\\n",
       "0     0  Lettuce, romaine, green, raw         mg        100      g   \n",
       "1     0     Lettuce, leaf, green, raw         mg        100      g   \n",
       "2     0       Lettuce, leaf, red, raw         mg        100      g   \n",
       "3     0         Lettuce, iceberg, raw         mg        100      g   \n",
       "4     0          Nuts, pine nuts, raw         mg        100      g   \n",
       "\n",
       "  defaultValue  \n",
       "0            0  \n",
       "1            0  \n",
       "2            0  \n",
       "3            0  \n",
       "4            0  "
      ]
     },
     "execution_count": 26,
     "metadata": {},
     "output_type": "execute_result"
    }
   ],
   "source": [
    "saltDf.head()"
   ]
  },
  {
   "cell_type": "code",
   "execution_count": 124,
   "metadata": {},
   "outputs": [],
   "source": [
    "visDF.to_csv('visualisation.csv')"
   ]
  },
  {
   "cell_type": "code",
   "execution_count": 111,
   "metadata": {},
   "outputs": [
    {
     "ename": "KeyError",
     "evalue": "202",
     "output_type": "error",
     "traceback": [
      "\u001b[0;31m---------------------------------------------------------------------------\u001b[0m",
      "\u001b[0;31mKeyError\u001b[0m                                  Traceback (most recent call last)",
      "File \u001b[0;32m~/Library/Python/3.9/lib/python/site-packages/pandas/core/indexes/base.py:3803\u001b[0m, in \u001b[0;36mIndex.get_loc\u001b[0;34m(self, key, method, tolerance)\u001b[0m\n\u001b[1;32m   3802\u001b[0m \u001b[39mtry\u001b[39;00m:\n\u001b[0;32m-> 3803\u001b[0m     \u001b[39mreturn\u001b[39;00m \u001b[39mself\u001b[39;49m\u001b[39m.\u001b[39;49m_engine\u001b[39m.\u001b[39;49mget_loc(casted_key)\n\u001b[1;32m   3804\u001b[0m \u001b[39mexcept\u001b[39;00m \u001b[39mKeyError\u001b[39;00m \u001b[39mas\u001b[39;00m err:\n",
      "File \u001b[0;32m~/Library/Python/3.9/lib/python/site-packages/pandas/_libs/index.pyx:138\u001b[0m, in \u001b[0;36mpandas._libs.index.IndexEngine.get_loc\u001b[0;34m()\u001b[0m\n",
      "File \u001b[0;32m~/Library/Python/3.9/lib/python/site-packages/pandas/_libs/index.pyx:165\u001b[0m, in \u001b[0;36mpandas._libs.index.IndexEngine.get_loc\u001b[0;34m()\u001b[0m\n",
      "File \u001b[0;32mpandas/_libs/hashtable_class_helper.pxi:2263\u001b[0m, in \u001b[0;36mpandas._libs.hashtable.Int64HashTable.get_item\u001b[0;34m()\u001b[0m\n",
      "File \u001b[0;32mpandas/_libs/hashtable_class_helper.pxi:2273\u001b[0m, in \u001b[0;36mpandas._libs.hashtable.Int64HashTable.get_item\u001b[0;34m()\u001b[0m\n",
      "\u001b[0;31mKeyError\u001b[0m: 202",
      "\nThe above exception was the direct cause of the following exception:\n",
      "\u001b[0;31mKeyError\u001b[0m                                  Traceback (most recent call last)",
      "\u001b[1;32m/Users/anujatayal/Downloads/uic-courses/dataset/kg.ipynb Cell 25\u001b[0m in \u001b[0;36m6\n\u001b[1;32m      <a href='vscode-notebook-cell:/Users/anujatayal/Downloads/uic-courses/dataset/kg.ipynb#X31sZmlsZQ%3D%3D?line=3'>4</a>\u001b[0m df2\u001b[39m=\u001b[39m{}\n\u001b[1;32m      <a href='vscode-notebook-cell:/Users/anujatayal/Downloads/uic-courses/dataset/kg.ipynb#X31sZmlsZQ%3D%3D?line=4'>5</a>\u001b[0m df3\u001b[39m=\u001b[39m{}\n\u001b[0;32m----> <a href='vscode-notebook-cell:/Users/anujatayal/Downloads/uic-courses/dataset/kg.ipynb#X31sZmlsZQ%3D%3D?line=5'>6</a>\u001b[0m df1[\u001b[39m'\u001b[39m\u001b[39mvalue\u001b[39m\u001b[39m'\u001b[39m]\u001b[39m=\u001b[39m\u001b[39mstr\u001b[39m(np\u001b[39m.\u001b[39mformat_float_positional(df\u001b[39m.\u001b[39;49mloc[i][\u001b[39m'\u001b[39m\u001b[39mvalue\u001b[39m\u001b[39m'\u001b[39m], \u001b[39m3\u001b[39m, trim\u001b[39m=\u001b[39m\u001b[39m'\u001b[39m\u001b[39m-\u001b[39m\u001b[39m'\u001b[39m))\n\u001b[1;32m      <a href='vscode-notebook-cell:/Users/anujatayal/Downloads/uic-courses/dataset/kg.ipynb#X31sZmlsZQ%3D%3D?line=6'>7</a>\u001b[0m df1[\u001b[39m'\u001b[39m\u001b[39mfoodDescription\u001b[39m\u001b[39m'\u001b[39m]\u001b[39m=\u001b[39mdf\u001b[39m.\u001b[39mloc[i][\u001b[39m'\u001b[39m\u001b[39mfoodDescription\u001b[39m\u001b[39m'\u001b[39m]\n\u001b[1;32m      <a href='vscode-notebook-cell:/Users/anujatayal/Downloads/uic-courses/dataset/kg.ipynb#X31sZmlsZQ%3D%3D?line=7'>8</a>\u001b[0m df1[\u001b[39m'\u001b[39m\u001b[39msaltmetric\u001b[39m\u001b[39m'\u001b[39m]\u001b[39m=\u001b[39m\u001b[39m\"\u001b[39m\u001b[39mmg\u001b[39m\u001b[39m\"\u001b[39m\n",
      "File \u001b[0;32m~/Library/Python/3.9/lib/python/site-packages/pandas/core/indexing.py:1073\u001b[0m, in \u001b[0;36m_LocationIndexer.__getitem__\u001b[0;34m(self, key)\u001b[0m\n\u001b[1;32m   1070\u001b[0m axis \u001b[39m=\u001b[39m \u001b[39mself\u001b[39m\u001b[39m.\u001b[39maxis \u001b[39mor\u001b[39;00m \u001b[39m0\u001b[39m\n\u001b[1;32m   1072\u001b[0m maybe_callable \u001b[39m=\u001b[39m com\u001b[39m.\u001b[39mapply_if_callable(key, \u001b[39mself\u001b[39m\u001b[39m.\u001b[39mobj)\n\u001b[0;32m-> 1073\u001b[0m \u001b[39mreturn\u001b[39;00m \u001b[39mself\u001b[39;49m\u001b[39m.\u001b[39;49m_getitem_axis(maybe_callable, axis\u001b[39m=\u001b[39;49maxis)\n",
      "File \u001b[0;32m~/Library/Python/3.9/lib/python/site-packages/pandas/core/indexing.py:1312\u001b[0m, in \u001b[0;36m_LocIndexer._getitem_axis\u001b[0;34m(self, key, axis)\u001b[0m\n\u001b[1;32m   1310\u001b[0m \u001b[39m# fall thru to straight lookup\u001b[39;00m\n\u001b[1;32m   1311\u001b[0m \u001b[39mself\u001b[39m\u001b[39m.\u001b[39m_validate_key(key, axis)\n\u001b[0;32m-> 1312\u001b[0m \u001b[39mreturn\u001b[39;00m \u001b[39mself\u001b[39;49m\u001b[39m.\u001b[39;49m_get_label(key, axis\u001b[39m=\u001b[39;49maxis)\n",
      "File \u001b[0;32m~/Library/Python/3.9/lib/python/site-packages/pandas/core/indexing.py:1260\u001b[0m, in \u001b[0;36m_LocIndexer._get_label\u001b[0;34m(self, label, axis)\u001b[0m\n\u001b[1;32m   1258\u001b[0m \u001b[39mdef\u001b[39;00m \u001b[39m_get_label\u001b[39m(\u001b[39mself\u001b[39m, label, axis: \u001b[39mint\u001b[39m):\n\u001b[1;32m   1259\u001b[0m     \u001b[39m# GH#5567 this will fail if the label is not present in the axis.\u001b[39;00m\n\u001b[0;32m-> 1260\u001b[0m     \u001b[39mreturn\u001b[39;00m \u001b[39mself\u001b[39;49m\u001b[39m.\u001b[39;49mobj\u001b[39m.\u001b[39;49mxs(label, axis\u001b[39m=\u001b[39;49maxis)\n",
      "File \u001b[0;32m~/Library/Python/3.9/lib/python/site-packages/pandas/core/generic.py:4056\u001b[0m, in \u001b[0;36mNDFrame.xs\u001b[0;34m(self, key, axis, level, drop_level)\u001b[0m\n\u001b[1;32m   4054\u001b[0m             new_index \u001b[39m=\u001b[39m index[loc]\n\u001b[1;32m   4055\u001b[0m \u001b[39melse\u001b[39;00m:\n\u001b[0;32m-> 4056\u001b[0m     loc \u001b[39m=\u001b[39m index\u001b[39m.\u001b[39;49mget_loc(key)\n\u001b[1;32m   4058\u001b[0m     \u001b[39mif\u001b[39;00m \u001b[39misinstance\u001b[39m(loc, np\u001b[39m.\u001b[39mndarray):\n\u001b[1;32m   4059\u001b[0m         \u001b[39mif\u001b[39;00m loc\u001b[39m.\u001b[39mdtype \u001b[39m==\u001b[39m np\u001b[39m.\u001b[39mbool_:\n",
      "File \u001b[0;32m~/Library/Python/3.9/lib/python/site-packages/pandas/core/indexes/base.py:3805\u001b[0m, in \u001b[0;36mIndex.get_loc\u001b[0;34m(self, key, method, tolerance)\u001b[0m\n\u001b[1;32m   3803\u001b[0m     \u001b[39mreturn\u001b[39;00m \u001b[39mself\u001b[39m\u001b[39m.\u001b[39m_engine\u001b[39m.\u001b[39mget_loc(casted_key)\n\u001b[1;32m   3804\u001b[0m \u001b[39mexcept\u001b[39;00m \u001b[39mKeyError\u001b[39;00m \u001b[39mas\u001b[39;00m err:\n\u001b[0;32m-> 3805\u001b[0m     \u001b[39mraise\u001b[39;00m \u001b[39mKeyError\u001b[39;00m(key) \u001b[39mfrom\u001b[39;00m \u001b[39merr\u001b[39;00m\n\u001b[1;32m   3806\u001b[0m \u001b[39mexcept\u001b[39;00m \u001b[39mTypeError\u001b[39;00m:\n\u001b[1;32m   3807\u001b[0m     \u001b[39m# If we have a listlike key, _check_indexing_error will raise\u001b[39;00m\n\u001b[1;32m   3808\u001b[0m     \u001b[39m#  InvalidIndexError. Otherwise we fall through and re-raise\u001b[39;00m\n\u001b[1;32m   3809\u001b[0m     \u001b[39m#  the TypeError.\u001b[39;00m\n\u001b[1;32m   3810\u001b[0m     \u001b[39mself\u001b[39m\u001b[39m.\u001b[39m_check_indexing_error(key)\n",
      "\u001b[0;31mKeyError\u001b[0m: 202"
     ]
    }
   ],
   "source": []
  },
  {
   "cell_type": "code",
   "execution_count": null,
   "metadata": {},
   "outputs": [],
   "source": []
  },
  {
   "cell_type": "code",
   "execution_count": null,
   "metadata": {},
   "outputs": [],
   "source": []
  },
  {
   "cell_type": "code",
   "execution_count": null,
   "metadata": {},
   "outputs": [],
   "source": []
  },
  {
   "cell_type": "code",
   "execution_count": null,
   "metadata": {},
   "outputs": [],
   "source": [
    "import networkx as nx\n",
    "import matplotlib.pyplot as plt\n",
    "G=nx.from_pandas_edgelist(visDF[:200],\"subject\",\"object\",edge_attr='edge',create_using=nx.MultiDiGraph(),edge_key=None)\n",
    "plt.figure(figsize=(6,6))\n",
    "pos=nx.spring_layout(G)\n",
    "# nx.draw(G,with_labels=True,node_color='skyblue',edge_map=plt.cm.Blues,pos=pos)\n",
    "nx.draw(G,with_labels=True)\n",
    "nx.draw_networkx_edge_labels(G,pos)\n",
    "# nx.draw(G,with_labels=True)\n",
    "plt.show()\n"
   ]
  },
  {
   "cell_type": "code",
   "execution_count": null,
   "metadata": {},
   "outputs": [],
   "source": [
    "import networkx as nx\n",
    "import matplotlib.pyplot as plt\n",
    "G=nx.from_pandas_dataframe(visDF[:10],\"subject\",\"object\",['relation'])\n",
    "plt.figure(figsize=(6,6))\n",
    "pos=nx.spring_layout(G)\n",
    "# nx.draw(G,with_labels=True,node_color='skyblue',edge_map=plt.cm.Blues,pos=pos)\n",
    "nx.draw(G,with_labels=True)\n",
    "# nx.draw_networkx_edge_labels(G,pos,edge_labels=visDF[:10]['edge'])\n",
    "# nx.draw(G,with_labels=True)\n",
    "plt.show()"
   ]
  },
  {
   "cell_type": "code",
   "execution_count": null,
   "metadata": {},
   "outputs": [],
   "source": [
    "visDF[:10]"
   ]
  },
  {
   "cell_type": "code",
   "execution_count": 34,
   "metadata": {},
   "outputs": [],
   "source": [
    "json_file=[]\n",
    "for index,row in saltDf.iterrows():\n",
    "    index,data"
   ]
  },
  {
   "cell_type": "code",
   "execution_count": 37,
   "metadata": {},
   "outputs": [],
   "source": [
    "saltDf = saltDf.drop(columns='defaultValue')"
   ]
  },
  {
   "cell_type": "code",
   "execution_count": 45,
   "metadata": {},
   "outputs": [
    {
     "data": {
      "text/html": [
       "<div>\n",
       "<style scoped>\n",
       "    .dataframe tbody tr th:only-of-type {\n",
       "        vertical-align: middle;\n",
       "    }\n",
       "\n",
       "    .dataframe tbody tr th {\n",
       "        vertical-align: top;\n",
       "    }\n",
       "\n",
       "    .dataframe thead th {\n",
       "        text-align: right;\n",
       "    }\n",
       "</style>\n",
       "<table border=\"1\" class=\"dataframe\">\n",
       "  <thead>\n",
       "    <tr style=\"text-align: right;\">\n",
       "      <th></th>\n",
       "      <th>value</th>\n",
       "      <th>foodDescription</th>\n",
       "      <th>saltmetric</th>\n",
       "      <th>foodWeight</th>\n",
       "      <th>metric</th>\n",
       "    </tr>\n",
       "  </thead>\n",
       "  <tbody>\n",
       "    <tr>\n",
       "      <th>0</th>\n",
       "      <td>0</td>\n",
       "      <td>Lettuce, romaine, green, raw</td>\n",
       "      <td>mg</td>\n",
       "      <td>100</td>\n",
       "      <td>g</td>\n",
       "    </tr>\n",
       "    <tr>\n",
       "      <th>1</th>\n",
       "      <td>0</td>\n",
       "      <td>Lettuce, leaf, green, raw</td>\n",
       "      <td>mg</td>\n",
       "      <td>100</td>\n",
       "      <td>g</td>\n",
       "    </tr>\n",
       "    <tr>\n",
       "      <th>2</th>\n",
       "      <td>0</td>\n",
       "      <td>Lettuce, leaf, red, raw</td>\n",
       "      <td>mg</td>\n",
       "      <td>100</td>\n",
       "      <td>g</td>\n",
       "    </tr>\n",
       "    <tr>\n",
       "      <th>3</th>\n",
       "      <td>0</td>\n",
       "      <td>Lettuce, iceberg, raw</td>\n",
       "      <td>mg</td>\n",
       "      <td>100</td>\n",
       "      <td>g</td>\n",
       "    </tr>\n",
       "    <tr>\n",
       "      <th>4</th>\n",
       "      <td>0</td>\n",
       "      <td>Nuts, pine nuts, raw</td>\n",
       "      <td>mg</td>\n",
       "      <td>100</td>\n",
       "      <td>g</td>\n",
       "    </tr>\n",
       "  </tbody>\n",
       "</table>\n",
       "</div>"
      ],
      "text/plain": [
       "  value               foodDescription saltmetric foodWeight metric\n",
       "0     0  Lettuce, romaine, green, raw         mg        100      g\n",
       "1     0     Lettuce, leaf, green, raw         mg        100      g\n",
       "2     0       Lettuce, leaf, red, raw         mg        100      g\n",
       "3     0         Lettuce, iceberg, raw         mg        100      g\n",
       "4     0          Nuts, pine nuts, raw         mg        100      g"
      ]
     },
     "execution_count": 45,
     "metadata": {},
     "output_type": "execute_result"
    }
   ],
   "source": [
    "saltDf.head()"
   ]
  },
  {
   "cell_type": "code",
   "execution_count": 47,
   "metadata": {},
   "outputs": [],
   "source": [
    "saltDf = saltDf.rename(columns={'foodDescription': 'fooddescription','foodWeight': 'foodweight'})"
   ]
  },
  {
   "cell_type": "code",
   "execution_count": 48,
   "metadata": {},
   "outputs": [],
   "source": [
    "json_data = eval(saltDf.to_json(orient='records'))\n",
    "\n",
    "# Print the JSON data\n",
    "# print(json_data)"
   ]
  },
  {
   "cell_type": "code",
   "execution_count": 49,
   "metadata": {},
   "outputs": [],
   "source": [
    "with open(\"food_db_processed.json\", \"w\") as output_file:\n",
    "    json.dump(json_data, output_file, indent=4)"
   ]
  },
  {
   "cell_type": "code",
   "execution_count": 50,
   "metadata": {},
   "outputs": [],
   "source": [
    "#food db\n",
    "import json\n",
    "with open(\"food_db_processed.json\",\"r\") as input_file:\n",
    "    data = json.load(input_file)\n",
    "unique_entries = set()\n",
    "filtered_data = []\n",
    "for entry in data:\n",
    "    key = (entry[\"fooddescription\"], entry[\"metric\"], entry[\"foodweight\"])\n",
    "    if key not in unique_entries:\n",
    "        unique_entries.add(key)\n",
    "        filtered_data.append(entry)\n",
    "\n",
    "# Write the filtered data to a new JSON file\n",
    "with open(\"food_db_processed.json\", \"w\") as output_file:\n",
    "    json.dump(filtered_data, output_file, indent=4)"
   ]
  },
  {
   "cell_type": "code",
   "execution_count": null,
   "metadata": {},
   "outputs": [],
   "source": [
    "koperk[tk[]]"
   ]
  }
 ],
 "metadata": {
  "kernelspec": {
   "display_name": "Python 3",
   "language": "python",
   "name": "python3"
  },
  "language_info": {
   "codemirror_mode": {
    "name": "ipython",
    "version": 3
   },
   "file_extension": ".py",
   "mimetype": "text/x-python",
   "name": "python",
   "nbconvert_exporter": "python",
   "pygments_lexer": "ipython3",
   "version": "3.9.6"
  },
  "orig_nbformat": 4,
  "vscode": {
   "interpreter": {
    "hash": "31f2aee4e71d21fbe5cf8b01ff0e069b9275f58929596ceb00d14d90e3e16cd6"
   }
  }
 },
 "nbformat": 4,
 "nbformat_minor": 2
}
